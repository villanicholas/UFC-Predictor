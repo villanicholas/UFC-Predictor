{
 "cells": [
  {
   "cell_type": "code",
   "execution_count": 13,
   "metadata": {},
   "outputs": [],
   "source": [
    "import pandas as pd\n",
    "import sklearn\n",
    "import numpy as  np\n"
   ]
  },
  {
   "cell_type": "code",
   "execution_count": 14,
   "metadata": {},
   "outputs": [
    {
     "name": "stdout",
     "output_type": "stream",
     "text": [
      "Draw rate is: 0.0%, converting to nan\n"
     ]
    },
    {
     "data": {
      "text/plain": [
       "Index(['date', 'B_fighter', 'R_fighter', 'Winner', 'B_current_lose_streak',\n",
       "       'B_current_win_streak', 'B_longest_win_streak', 'B_losses',\n",
       "       'B_total_rounds_fought', 'B_total_title_bouts',\n",
       "       'B_win_by_Decision_Majority', 'B_win_by_Decision_Split',\n",
       "       'B_win_by_Decision_Unanimous', 'B_win_by_KO_TKO', 'B_win_by_Submission',\n",
       "       'B_win_by_TKO_Doctor_Stoppage', 'B_wins', 'B_Height_cms', 'B_Reach_cms',\n",
       "       'B_Weight_lbs', 'B_age', 'B_Stance_Open_Stance', 'B_Stance_Orthodox',\n",
       "       'B_Stance_Southpaw', 'B_Stance_Switch', 'R_current_lose_streak',\n",
       "       'R_current_win_streak', 'R_longest_win_streak', 'R_losses',\n",
       "       'R_total_rounds_fought', 'R_total_title_bouts',\n",
       "       'R_win_by_Decision_Majority', 'R_win_by_Decision_Split',\n",
       "       'R_win_by_Decision_Unanimous', 'R_win_by_KO_TKO', 'R_win_by_Submission',\n",
       "       'R_win_by_TKO_Doctor_Stoppage', 'R_wins', 'R_Height_cms', 'R_Reach_cms',\n",
       "       'R_Weight_lbs', 'R_age', 'R_Stance_Open_Stance', 'R_Stance_Orthodox',\n",
       "       'R_Stance_Southpaw', 'R_Stance_Switch'],\n",
       "      dtype='object')"
      ]
     },
     "execution_count": 14,
     "metadata": {},
     "output_type": "execute_result"
    }
   ],
   "source": [
    "df = pd.read_csv(\"UFC_processed.csv\") # original dataset\n",
    "##print(f\"Initial shape: {df.shape}\")\n",
    "\n",
    "keep = np.array([4,2,1,6,10,11,12,37,38,63,65,66,67,68,69,70,71,72,73,74,75,76,77,78,79,104,105,130,132,133,134,135,136,137,138,139,140,141,142,143,144,145]) - 1\n",
    "df = df.iloc[:,:] # interesting fields\n",
    "\n",
    "df[\"date\"] = pd.to_datetime(df[\"date\"]) # date as datetime\n",
    "\n",
    "\n",
    "df = df.replace(r'^\\s*$', np.nan, regex=True) # replace empty string with nan\n",
    "df = df.fillna(np.nan) # Fill empty and NaNs values with NaN\n",
    "\n",
    "df = df.round(3) # format data\n",
    "\n",
    "df.rename(columns={ # some renaming\n",
    "    \"B_win_by_KO/TKO\": \"B_win_by_KO_TKO\",\n",
    "    \"R_win_by_KO/TKO\": \"R_win_by_KO_TKO\"},inplace=True)\n",
    "##print(f\"shape: {df.shape}\")\n",
    "\n",
    "# considering matches with a winner as this will be a binary classification\n",
    "drawRate = round(len(df[\"Winner\"][df[\"Winner\"]== \"Draw\"])/len(df.index)*100,3)\n",
    "print(f\"Draw rate is: {drawRate}%, converting to nan\")\n",
    "df[\"Winner\"] = df[\"Winner\"].replace(\"Draw\", np.nan) # convert to nan to be dropped later\n",
    "##df.dropna()\n",
    "\n",
    "selected_features = [\n",
    "    # Core Fighter Performance Stats\n",
    "    \"KD\", \"SIG_STR_pct\", \"SIG_STR\", \"TOTAL_STR\", \"TD\", \"TD_pct\", \n",
    "    \"SUB_ATT\", \"PASS\", \"REV\",\n",
    "    \n",
    "    # Fighter-Specific Historical and Career Stats\n",
    "    \"current_win_streak\", \"current_lose_streak\", \"wins\", \"losses\", \n",
    "    \"draw\", \"total_rounds_fought\", \"total_time_fought(seconds)\", \n",
    "    \"total_title_bouts\",\n",
    "    \n",
    "    # Physical Attributes\n",
    "    \"Height_cms\", \"Reach_cms\", \"Weight_lbs\", \"age\", \"Stance\",\n",
    "    \n",
    "    # Fight Context Features\n",
    "    \"Format\", \"no_of_rounds\", \"title_bout\", \"Fight_type\",\n",
    "    \n",
    "    # Outcome History\n",
    "    \"win_by_Decision_Majority\", \"win_by_Decision_Split\", \n",
    "    \"win_by_Decision_Unanimous\", \"win_by_KO_TKO\", \n",
    "    \"win_by_Submission\", \"win_by_TKO_Doctor_Stoppage\",\n",
    "    \n",
    "    # Opponent-Based Metrics (Prefix R_ and B_ for red and blue corner fighters)\n",
    "    \"R_opp_SIG_STR\", \"B_opp_SIG_STR\", \"R_opp_TOTAL_STR\", \"B_opp_TOTAL_STR\",\n",
    "    \"R_opp_TD\", \"B_opp_TD\", \"R_opp_PASS\", \"B_opp_PASS\", \"R_opp_REV\", \"B_opp_REV\"\n",
    "]\n",
    "\n",
    "\n",
    "\n",
    "df.columns"
   ]
  },
  {
   "cell_type": "code",
   "execution_count": 15,
   "metadata": {},
   "outputs": [
    {
     "data": {
      "text/html": [
       "<div>\n",
       "<style scoped>\n",
       "    .dataframe tbody tr th:only-of-type {\n",
       "        vertical-align: middle;\n",
       "    }\n",
       "\n",
       "    .dataframe tbody tr th {\n",
       "        vertical-align: top;\n",
       "    }\n",
       "\n",
       "    .dataframe thead th {\n",
       "        text-align: right;\n",
       "    }\n",
       "</style>\n",
       "<table border=\"1\" class=\"dataframe\">\n",
       "  <thead>\n",
       "    <tr style=\"text-align: right;\">\n",
       "      <th></th>\n",
       "      <th>date</th>\n",
       "      <th>B_fighter</th>\n",
       "      <th>R_fighter</th>\n",
       "      <th>Winner</th>\n",
       "      <th>B_current_lose_streak</th>\n",
       "      <th>B_current_win_streak</th>\n",
       "      <th>B_longest_win_streak</th>\n",
       "      <th>B_losses</th>\n",
       "      <th>B_total_rounds_fought</th>\n",
       "      <th>B_total_title_bouts</th>\n",
       "      <th>...</th>\n",
       "      <th>R_win_by_TKO_Doctor_Stoppage</th>\n",
       "      <th>R_wins</th>\n",
       "      <th>R_Height_cms</th>\n",
       "      <th>R_Reach_cms</th>\n",
       "      <th>R_Weight_lbs</th>\n",
       "      <th>R_age</th>\n",
       "      <th>R_Stance_Open_Stance</th>\n",
       "      <th>R_Stance_Orthodox</th>\n",
       "      <th>R_Stance_Southpaw</th>\n",
       "      <th>R_Stance_Switch</th>\n",
       "    </tr>\n",
       "  </thead>\n",
       "  <tbody>\n",
       "    <tr>\n",
       "      <th>2248</th>\n",
       "      <td>2008-11-15</td>\n",
       "      <td>Jorge Gurgel</td>\n",
       "      <td>Aaron Riley</td>\n",
       "      <td>0</td>\n",
       "      <td>1.0</td>\n",
       "      <td>0.0</td>\n",
       "      <td>2.0</td>\n",
       "      <td>3.0</td>\n",
       "      <td>18.0</td>\n",
       "      <td>0.0</td>\n",
       "      <td>...</td>\n",
       "      <td>0.0</td>\n",
       "      <td>0.0</td>\n",
       "      <td>172.72</td>\n",
       "      <td>175.26</td>\n",
       "      <td>155.0</td>\n",
       "      <td>27.0</td>\n",
       "      <td>0</td>\n",
       "      <td>0</td>\n",
       "      <td>1</td>\n",
       "      <td>0</td>\n",
       "    </tr>\n",
       "    <tr>\n",
       "      <th>443</th>\n",
       "      <td>2002-09-27</td>\n",
       "      <td>Ivan Salaverry</td>\n",
       "      <td>Matt Lindland</td>\n",
       "      <td>0</td>\n",
       "      <td>0.0</td>\n",
       "      <td>1.0</td>\n",
       "      <td>1.0</td>\n",
       "      <td>0.0</td>\n",
       "      <td>3.0</td>\n",
       "      <td>0.0</td>\n",
       "      <td>...</td>\n",
       "      <td>0.0</td>\n",
       "      <td>4.0</td>\n",
       "      <td>182.88</td>\n",
       "      <td>187.96</td>\n",
       "      <td>185.0</td>\n",
       "      <td>32.0</td>\n",
       "      <td>0</td>\n",
       "      <td>0</td>\n",
       "      <td>1</td>\n",
       "      <td>0</td>\n",
       "    </tr>\n",
       "    <tr>\n",
       "      <th>4320</th>\n",
       "      <td>2019-02-23</td>\n",
       "      <td>Lucie Pudilova</td>\n",
       "      <td>Liz Carmouche</td>\n",
       "      <td>0</td>\n",
       "      <td>1.0</td>\n",
       "      <td>0.0</td>\n",
       "      <td>2.0</td>\n",
       "      <td>2.0</td>\n",
       "      <td>12.0</td>\n",
       "      <td>0.0</td>\n",
       "      <td>...</td>\n",
       "      <td>0.0</td>\n",
       "      <td>4.0</td>\n",
       "      <td>167.64</td>\n",
       "      <td>167.64</td>\n",
       "      <td>125.0</td>\n",
       "      <td>35.0</td>\n",
       "      <td>0</td>\n",
       "      <td>1</td>\n",
       "      <td>0</td>\n",
       "      <td>0</td>\n",
       "    </tr>\n",
       "    <tr>\n",
       "      <th>1563</th>\n",
       "      <td>2016-05-29</td>\n",
       "      <td>Adam Milstead</td>\n",
       "      <td>Chris de la Rocha</td>\n",
       "      <td>1</td>\n",
       "      <td>0.0</td>\n",
       "      <td>0.0</td>\n",
       "      <td>0.0</td>\n",
       "      <td>0.0</td>\n",
       "      <td>0.0</td>\n",
       "      <td>0.0</td>\n",
       "      <td>...</td>\n",
       "      <td>0.0</td>\n",
       "      <td>0.0</td>\n",
       "      <td>190.50</td>\n",
       "      <td>203.20</td>\n",
       "      <td>250.0</td>\n",
       "      <td>37.0</td>\n",
       "      <td>0</td>\n",
       "      <td>1</td>\n",
       "      <td>0</td>\n",
       "      <td>0</td>\n",
       "    </tr>\n",
       "    <tr>\n",
       "      <th>1549</th>\n",
       "      <td>2015-06-27</td>\n",
       "      <td>Tony Sims</td>\n",
       "      <td>Steve Montgomery</td>\n",
       "      <td>1</td>\n",
       "      <td>0.0</td>\n",
       "      <td>0.0</td>\n",
       "      <td>0.0</td>\n",
       "      <td>0.0</td>\n",
       "      <td>0.0</td>\n",
       "      <td>0.0</td>\n",
       "      <td>...</td>\n",
       "      <td>0.0</td>\n",
       "      <td>0.0</td>\n",
       "      <td>193.04</td>\n",
       "      <td>190.50</td>\n",
       "      <td>185.0</td>\n",
       "      <td>24.0</td>\n",
       "      <td>0</td>\n",
       "      <td>0</td>\n",
       "      <td>1</td>\n",
       "      <td>0</td>\n",
       "    </tr>\n",
       "  </tbody>\n",
       "</table>\n",
       "<p>5 rows × 46 columns</p>\n",
       "</div>"
      ],
      "text/plain": [
       "           date       B_fighter          R_fighter  Winner  \\\n",
       "2248 2008-11-15    Jorge Gurgel        Aaron Riley       0   \n",
       "443  2002-09-27  Ivan Salaverry      Matt Lindland       0   \n",
       "4320 2019-02-23  Lucie Pudilova      Liz Carmouche       0   \n",
       "1563 2016-05-29   Adam Milstead  Chris de la Rocha       1   \n",
       "1549 2015-06-27       Tony Sims   Steve Montgomery       1   \n",
       "\n",
       "      B_current_lose_streak  B_current_win_streak  B_longest_win_streak  \\\n",
       "2248                    1.0                   0.0                   2.0   \n",
       "443                     0.0                   1.0                   1.0   \n",
       "4320                    1.0                   0.0                   2.0   \n",
       "1563                    0.0                   0.0                   0.0   \n",
       "1549                    0.0                   0.0                   0.0   \n",
       "\n",
       "      B_losses  B_total_rounds_fought  B_total_title_bouts  ...  \\\n",
       "2248       3.0                   18.0                  0.0  ...   \n",
       "443        0.0                    3.0                  0.0  ...   \n",
       "4320       2.0                   12.0                  0.0  ...   \n",
       "1563       0.0                    0.0                  0.0  ...   \n",
       "1549       0.0                    0.0                  0.0  ...   \n",
       "\n",
       "      R_win_by_TKO_Doctor_Stoppage  R_wins  R_Height_cms  R_Reach_cms  \\\n",
       "2248                           0.0     0.0        172.72       175.26   \n",
       "443                            0.0     4.0        182.88       187.96   \n",
       "4320                           0.0     4.0        167.64       167.64   \n",
       "1563                           0.0     0.0        190.50       203.20   \n",
       "1549                           0.0     0.0        193.04       190.50   \n",
       "\n",
       "      R_Weight_lbs  R_age  R_Stance_Open_Stance  R_Stance_Orthodox  \\\n",
       "2248         155.0   27.0                     0                  0   \n",
       "443          185.0   32.0                     0                  0   \n",
       "4320         125.0   35.0                     0                  1   \n",
       "1563         250.0   37.0                     0                  1   \n",
       "1549         185.0   24.0                     0                  0   \n",
       "\n",
       "      R_Stance_Southpaw  R_Stance_Switch  \n",
       "2248                  1                0  \n",
       "443                   1                0  \n",
       "4320                  0                0  \n",
       "1563                  0                0  \n",
       "1549                  1                0  \n",
       "\n",
       "[5 rows x 46 columns]"
      ]
     },
     "execution_count": 15,
     "metadata": {},
     "output_type": "execute_result"
    }
   ],
   "source": [
    "##shuffling the data \n",
    "df_shuffled = df.sample(frac = 1)\n",
    "df_shuffled.head(n=5)"
   ]
  },
  {
   "cell_type": "code",
   "execution_count": 39,
   "metadata": {},
   "outputs": [
    {
     "name": "stdout",
     "output_type": "stream",
     "text": [
      "<class 'pandas.core.frame.DataFrame'>\n",
      "Index: 4635 entries, 2248 to 1821\n",
      "Data columns (total 42 columns):\n",
      " #   Column                        Non-Null Count  Dtype  \n",
      "---  ------                        --------------  -----  \n",
      " 0   B_current_lose_streak         4635 non-null   float64\n",
      " 1   B_current_win_streak          4635 non-null   float64\n",
      " 2   B_longest_win_streak          4635 non-null   float64\n",
      " 3   B_losses                      4635 non-null   float64\n",
      " 4   B_total_rounds_fought         4635 non-null   float64\n",
      " 5   B_total_title_bouts           4635 non-null   float64\n",
      " 6   B_win_by_Decision_Majority    4635 non-null   float64\n",
      " 7   B_win_by_Decision_Split       4635 non-null   float64\n",
      " 8   B_win_by_Decision_Unanimous   4635 non-null   float64\n",
      " 9   B_win_by_KO_TKO               4635 non-null   float64\n",
      " 10  B_win_by_Submission           4635 non-null   float64\n",
      " 11  B_win_by_TKO_Doctor_Stoppage  4635 non-null   float64\n",
      " 12  B_wins                        4635 non-null   float64\n",
      " 13  B_Height_cms                  4635 non-null   float64\n",
      " 14  B_Reach_cms                   4635 non-null   float64\n",
      " 15  B_Weight_lbs                  4635 non-null   float64\n",
      " 16  B_age                         4635 non-null   float64\n",
      " 17  B_Stance_Open_Stance          4635 non-null   int64  \n",
      " 18  B_Stance_Orthodox             4635 non-null   int64  \n",
      " 19  B_Stance_Southpaw             4635 non-null   int64  \n",
      " 20  B_Stance_Switch               4635 non-null   int64  \n",
      " 21  R_current_lose_streak         4635 non-null   float64\n",
      " 22  R_current_win_streak          4635 non-null   float64\n",
      " 23  R_longest_win_streak          4635 non-null   float64\n",
      " 24  R_losses                      4635 non-null   float64\n",
      " 25  R_total_rounds_fought         4635 non-null   float64\n",
      " 26  R_total_title_bouts           4635 non-null   float64\n",
      " 27  R_win_by_Decision_Majority    4635 non-null   float64\n",
      " 28  R_win_by_Decision_Split       4635 non-null   float64\n",
      " 29  R_win_by_Decision_Unanimous   4635 non-null   float64\n",
      " 30  R_win_by_KO_TKO               4635 non-null   float64\n",
      " 31  R_win_by_Submission           4635 non-null   float64\n",
      " 32  R_win_by_TKO_Doctor_Stoppage  4635 non-null   float64\n",
      " 33  R_wins                        4635 non-null   float64\n",
      " 34  R_Height_cms                  4635 non-null   float64\n",
      " 35  R_Reach_cms                   4635 non-null   float64\n",
      " 36  R_Weight_lbs                  4635 non-null   float64\n",
      " 37  R_age                         4635 non-null   float64\n",
      " 38  R_Stance_Open_Stance          4635 non-null   int64  \n",
      " 39  R_Stance_Orthodox             4635 non-null   int64  \n",
      " 40  R_Stance_Southpaw             4635 non-null   int64  \n",
      " 41  R_Stance_Switch               4635 non-null   int64  \n",
      "dtypes: float64(34), int64(8)\n",
      "memory usage: 1.5 MB\n"
     ]
    }
   ],
   "source": [
    "##split up the data \n",
    "df_shuffled.columns\n",
    "\n",
    "# x = df_shuffled.drop([\"date\", \"Winner\",\"B_fighter\", \"R_fighter\"], axis = 1).values\n",
    "y = df_shuffled[\"Winner\"].values\n",
    "df_shuffled.drop([\"date\", \"Winner\",\"B_fighter\", \"R_fighter\"], axis = 1).info()\n",
    "x = df_shuffled.drop([\"date\", \"Winner\",\"B_fighter\", \n",
    "                      \"R_fighter\", \n",
    "                      \"B_Stance_Open_Stance\", \n",
    "                      \"B_Stance_Orthodox\", \n",
    "                      \"B_Stance_Southpaw\", \n",
    "                      \"B_Stance_Switch\", \n",
    "                      \"R_Stance_Open_Stance\",\n",
    "                      \"R_Stance_Orthodox\", \n",
    "                      \"R_Stance_Southpaw\", \n",
    "                      \"R_Stance_Switch\", \n",
    "                      \"R_total_title_bouts\",\n",
    "                      \"B_total_title_bouts\",\n",
    "                      \"B_losses\",\n",
    "                      \"R_losses\",\n",
    "                      \n",
    "                      \n",
    "                      \n",
    "                        ], axis = 1).values\n"
   ]
  },
  {
   "cell_type": "code",
   "execution_count": 40,
   "metadata": {},
   "outputs": [],
   "source": [
    "import numpy as np\n",
    "\n",
    "class CustomMinMaxScaler:\n",
    "    def __init__(self):\n",
    "        self.min_ = None\n",
    "        self.max_ = None\n",
    "\n",
    "    def fit(self, data):\n",
    "        # Compute min and max values for each feature\n",
    "        self.min_ = np.min(data, axis=0)\n",
    "        self.max_ = np.max(data, axis=0)\n",
    "\n",
    "    def transform(self, data):\n",
    "        # Scale data to the range [0, 1]\n",
    "        return (data - self.min_) / (self.max_ - self.min_)\n",
    "\n",
    "    def fit_transform(self, data):\n",
    "        self.fit(data)\n",
    "        return self.transform(data)"
   ]
  },
  {
   "cell_type": "code",
   "execution_count": 41,
   "metadata": {},
   "outputs": [],
   "source": [
    "from sklearn.model_selection import train_test_split\n",
    "from sklearn.preprocessing import StandardScaler\n",
    "import joblib\n",
    "xTrain, xTest, yTrain, yTest = train_test_split(x,y,test_size = .5)"
   ]
  },
  {
   "cell_type": "code",
   "execution_count": 42,
   "metadata": {},
   "outputs": [],
   "source": [
    "winners = y = df_shuffled[\"Winner\"].values\n",
    "\n",
    "scaler = CustomMinMaxScaler()\n",
    "\n",
    "xTrainScaled = scaler.fit_transform(xTrain)\n",
    "xTestScaled = scaler.fit_transform(xTest)\n",
    "\n"
   ]
  },
  {
   "cell_type": "code",
   "execution_count": 43,
   "metadata": {},
   "outputs": [
    {
     "name": "stderr",
     "output_type": "stream",
     "text": [
      "/home/joshuat/jupvenv/lib/python3.12/site-packages/sklearn/linear_model/_logistic.py:1247: FutureWarning: 'multi_class' was deprecated in version 1.5 and will be removed in 1.7. From then on, it will always use 'multinomial'. Leave it to its default value to avoid this warning.\n",
      "  warnings.warn(\n"
     ]
    },
    {
     "data": {
      "text/plain": [
       "['model1.joblib']"
      ]
     },
     "execution_count": 43,
     "metadata": {},
     "output_type": "execute_result"
    }
   ],
   "source": [
    "from sklearn.linear_model import LogisticRegression\n",
    "model1 = LogisticRegression(penalty = 'l1', tol = 1, solver = 'liblinear',\n",
    "                            multi_class = \"auto\",\n",
    "                            fit_intercept = False, \n",
    "                            max_iter =3)\n",
    "model1.fit(xTrainScaled, yTrain)\n",
    "joblib.dump(model1, 'model1.joblib')\n"
   ]
  },
  {
   "cell_type": "code",
   "execution_count": 44,
   "metadata": {},
   "outputs": [],
   "source": [
    "testing_model = joblib.load(\"model1.joblib\")\n",
    "prediction = testing_model.predict(xTestScaled)\n",
    "# print(prediction)\n",
    "# for i in prediction:\n",
    "#     print(i)"
   ]
  },
  {
   "cell_type": "code",
   "execution_count": null,
   "metadata": {},
   "outputs": [],
   "source": []
  },
  {
   "cell_type": "code",
   "execution_count": 45,
   "metadata": {},
   "outputs": [
    {
     "name": "stdout",
     "output_type": "stream",
     "text": [
      "Accuracy score for Logistic Regression Model: 0.6721311475409836\n",
      "Precision score for logistic Regression Model: 0.4426229508196721\n",
      "Recall score for Logistic Regression Model: 0.035856573705179286\n",
      "F1 score for Logistic Regression Model: 0.06633906633906633\n"
     ]
    }
   ],
   "source": [
    "print(\"Accuracy score for Logistic Regression Model: %s\" % (sklearn.metrics.accuracy_score(yTest,prediction)))\n",
    "print(\"Precision score for logistic Regression Model: %s\" % (sklearn.metrics.precision_score(yTest,prediction)))\n",
    "print(\"Recall score for Logistic Regression Model: %s\" % (sklearn.metrics.recall_score(yTest,prediction)))\n",
    "print(\"F1 score for Logistic Regression Model: %s\" % (sklearn.metrics.f1_score(yTest,prediction)))"
   ]
  },
  {
   "cell_type": "code",
   "execution_count": 46,
   "metadata": {},
   "outputs": [
    {
     "data": {
      "text/plain": [
       "['model2.joblib']"
      ]
     },
     "execution_count": 46,
     "metadata": {},
     "output_type": "execute_result"
    }
   ],
   "source": [
    "from sklearn.neighbors import KNeighborsClassifier\n",
    "model2 = KNeighborsClassifier(n_neighbors = 4, p =2)\n",
    "model2.fit(xTrainScaled,yTrain)\n",
    "joblib.dump(model2, 'model2.joblib')"
   ]
  },
  {
   "cell_type": "code",
   "execution_count": 47,
   "metadata": {},
   "outputs": [],
   "source": [
    "knnModel = joblib.load(\"model2.joblib\")\n",
    "knnPrediction = knnModel.predict(xTestScaled)\n",
    "# for i in range(len(knnPrediction)): \n",
    "    # print(\"Model 2 prediction based on data B for item: %d : %s\" % (i + 1, knnPrediction[i]))"
   ]
  },
  {
   "cell_type": "code",
   "execution_count": 48,
   "metadata": {},
   "outputs": [
    {
     "name": "stdout",
     "output_type": "stream",
     "text": [
      "Accuracy Score for KNN Model: 0.6647972389991372\n",
      "Precision score for KNN Model: 0.45918367346938777\n",
      "Recall Score for KNN Model: 0.17928286852589642\n",
      "F1 Score for KNN Model: 0.25787965616045844\n",
      "False Detection Rate for KNN Model: 0.5408163265306123\n",
      "Matthews Coeffiecen for KNN Model: 0.10932394188138414\n",
      "=====================================================================================================\n"
     ]
    }
   ],
   "source": [
    "knnModel_c = joblib.load(\"model2.joblib\")\n",
    "knnPrediction_c = knnModel_c.predict(xTestScaled)\n",
    "\n",
    "C_answers = yTest\n",
    "TP, FP = 0,0\n",
    "#for i in range(len(knnPrediction_c)): \n",
    "    #print(\"Model 2 prediction based on data C: %s\" % (knnPrediction_c[i]))\n",
    "print(\"Accuracy Score for KNN Model: %s\" %(sklearn.metrics.accuracy_score(C_answers,knnPrediction_c)))\n",
    "print(\"Precision score for KNN Model: %s\" %(sklearn.metrics.precision_score(C_answers,knnPrediction_c)))\n",
    "print(\"Recall Score for KNN Model: %s\" % (sklearn.metrics.recall_score(C_answers,knnPrediction_c)))\n",
    "print(\"F1 Score for KNN Model: %s\" % (sklearn.metrics.f1_score(C_answers,knnPrediction_c)))\n",
    "FDR_knn = 1 - sklearn.metrics.precision_score(C_answers, knnPrediction_c)\n",
    "print(\"False Detection Rate for KNN Model: %s\" %(FDR_knn))\n",
    "print(\"Matthews Coeffiecen for KNN Model: %s\" % (sklearn.metrics.matthews_corrcoef(C_answers,knnPrediction_c)))\n",
    "\n",
    "print(f'=====================================================================================================')"
   ]
  },
  {
   "cell_type": "code",
   "execution_count": null,
   "metadata": {},
   "outputs": [],
   "source": []
  },
  {
   "cell_type": "code",
   "execution_count": null,
   "metadata": {},
   "outputs": [],
   "source": []
  }
 ],
 "metadata": {
  "kernelspec": {
   "display_name": "Python 3 (ipykernel)",
   "language": "python",
   "name": "python3"
  },
  "language_info": {
   "codemirror_mode": {
    "name": "ipython",
    "version": 3
   },
   "file_extension": ".py",
   "mimetype": "text/x-python",
   "name": "python",
   "nbconvert_exporter": "python",
   "pygments_lexer": "ipython3",
   "version": "3.12.6"
  },
  "vscode": {
   "interpreter": {
    "hash": "40d3a090f54c6569ab1632332b64b2c03c39dcf918b08424e98f38b5ae0af88f"
   }
  }
 },
 "nbformat": 4,
 "nbformat_minor": 4
}
